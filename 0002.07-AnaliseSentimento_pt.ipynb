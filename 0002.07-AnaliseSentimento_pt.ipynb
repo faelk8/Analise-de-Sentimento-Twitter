{
 "cells": [
  {
   "cell_type": "code",
   "execution_count": 1,
   "metadata": {},
   "outputs": [
    {
     "name": "stderr",
     "output_type": "stream",
     "text": [
      "Using TensorFlow backend.\n"
     ]
    }
   ],
   "source": [
    "import numpy as np\n",
    "import pandas as pd\n",
    "import string\n",
    "import glob\n",
    "from re import sub\n",
    "from sklearn.feature_extraction.text import CountVectorizer\n",
    "from sklearn.model_selection import train_test_split\n",
    "from keras.preprocessing.text import Tokenizer\n",
    "from keras.preprocessing.sequence import pad_sequences\n",
    "from keras.models import Sequential\n",
    "from keras.layers import Dense, Embedding, GlobalAveragePooling1D, SpatialDropout1D\n",
    "from keras.callbacks import EarlyStopping, ModelCheckpoint\n",
    "import matplotlib.pyplot as plt"
   ]
  },
  {
   "cell_type": "markdown",
   "metadata": {},
   "source": [
    "# Caregando os dados e fazendo a análise"
   ]
  },
  {
   "cell_type": "code",
   "execution_count": 2,
   "metadata": {},
   "outputs": [],
   "source": [
    "data = pd.concat(map(pd.read_csv, glob.glob('dataset/Sentimento/portuguese-tweets-for-sentiment-analysis/*.csv')))"
   ]
  },
  {
   "cell_type": "code",
   "execution_count": 3,
   "metadata": {},
   "outputs": [
    {
     "data": {
      "text/html": [
       "<div>\n",
       "<style scoped>\n",
       "    .dataframe tbody tr th:only-of-type {\n",
       "        vertical-align: middle;\n",
       "    }\n",
       "\n",
       "    .dataframe tbody tr th {\n",
       "        vertical-align: top;\n",
       "    }\n",
       "\n",
       "    .dataframe thead th {\n",
       "        text-align: right;\n",
       "    }\n",
       "</style>\n",
       "<table border=\"1\" class=\"dataframe\">\n",
       "  <thead>\n",
       "    <tr style=\"text-align: right;\">\n",
       "      <th></th>\n",
       "      <th>id</th>\n",
       "      <th>tweet_text</th>\n",
       "      <th>tweet_date</th>\n",
       "      <th>sentiment</th>\n",
       "      <th>query_used</th>\n",
       "    </tr>\n",
       "  </thead>\n",
       "  <tbody>\n",
       "    <tr>\n",
       "      <th>0</th>\n",
       "      <td>1038992008461930496</td>\n",
       "      <td>Esquerda e direita empatam na Suécia; ultranac...</td>\n",
       "      <td>Mon Sep 10 03:26:13 +0000 2018</td>\n",
       "      <td>Neutro</td>\n",
       "      <td>veja</td>\n",
       "    </tr>\n",
       "    <tr>\n",
       "      <th>1</th>\n",
       "      <td>1038873557902782465</td>\n",
       "      <td>Ao vivo: Estadão e TV Gazeta realizam terceiro...</td>\n",
       "      <td>Sun Sep 09 19:35:32 +0000 2018</td>\n",
       "      <td>Neutro</td>\n",
       "      <td>veja</td>\n",
       "    </tr>\n",
       "    <tr>\n",
       "      <th>2</th>\n",
       "      <td>1038869931398516736</td>\n",
       "      <td>FOTOS: Apoiadores de Jair Bolsonaro realizam a...</td>\n",
       "      <td>Sun Sep 09 19:21:07 +0000 2018</td>\n",
       "      <td>Neutro</td>\n",
       "      <td>veja</td>\n",
       "    </tr>\n",
       "    <tr>\n",
       "      <th>3</th>\n",
       "      <td>1038867128886198273</td>\n",
       "      <td>Barroso ameaça barrar propaganda se PT insisti...</td>\n",
       "      <td>Sun Sep 09 19:09:59 +0000 2018</td>\n",
       "      <td>Neutro</td>\n",
       "      <td>veja</td>\n",
       "    </tr>\n",
       "    <tr>\n",
       "      <th>4</th>\n",
       "      <td>1038859914339409920</td>\n",
       "      <td>Serena Williams é multada pelo comportamento d...</td>\n",
       "      <td>Sun Sep 09 18:41:19 +0000 2018</td>\n",
       "      <td>Neutro</td>\n",
       "      <td>veja</td>\n",
       "    </tr>\n",
       "  </tbody>\n",
       "</table>\n",
       "</div>"
      ],
      "text/plain": [
       "                    id                                         tweet_text  \\\n",
       "0  1038992008461930496  Esquerda e direita empatam na Suécia; ultranac...   \n",
       "1  1038873557902782465  Ao vivo: Estadão e TV Gazeta realizam terceiro...   \n",
       "2  1038869931398516736  FOTOS: Apoiadores de Jair Bolsonaro realizam a...   \n",
       "3  1038867128886198273  Barroso ameaça barrar propaganda se PT insisti...   \n",
       "4  1038859914339409920  Serena Williams é multada pelo comportamento d...   \n",
       "\n",
       "                       tweet_date sentiment query_used  \n",
       "0  Mon Sep 10 03:26:13 +0000 2018    Neutro       veja  \n",
       "1  Sun Sep 09 19:35:32 +0000 2018    Neutro       veja  \n",
       "2  Sun Sep 09 19:21:07 +0000 2018    Neutro       veja  \n",
       "3  Sun Sep 09 19:09:59 +0000 2018    Neutro       veja  \n",
       "4  Sun Sep 09 18:41:19 +0000 2018    Neutro       veja  "
      ]
     },
     "execution_count": 3,
     "metadata": {},
     "output_type": "execute_result"
    }
   ],
   "source": [
    "data.head()"
   ]
  },
  {
   "cell_type": "code",
   "execution_count": 4,
   "metadata": {},
   "outputs": [
    {
     "name": "stdout",
     "output_type": "stream",
     "text": [
      "<class 'pandas.core.frame.DataFrame'>\n",
      "Int64Index: 900688 entries, 0 to 785813\n",
      "Data columns (total 5 columns):\n",
      " #   Column      Non-Null Count   Dtype \n",
      "---  ------      --------------   ----- \n",
      " 0   id          900688 non-null  int64 \n",
      " 1   tweet_text  900688 non-null  object\n",
      " 2   tweet_date  900688 non-null  object\n",
      " 3   sentiment   900688 non-null  object\n",
      " 4   query_used  900688 non-null  object\n",
      "dtypes: int64(1), object(4)\n",
      "memory usage: 41.2+ MB\n"
     ]
    }
   ],
   "source": [
    "data.info()"
   ]
  },
  {
   "cell_type": "code",
   "execution_count": 5,
   "metadata": {},
   "outputs": [],
   "source": [
    "data = data[['tweet_text', 'sentiment']]"
   ]
  },
  {
   "cell_type": "code",
   "execution_count": 6,
   "metadata": {},
   "outputs": [
    {
     "data": {
      "text/html": [
       "<div>\n",
       "<style scoped>\n",
       "    .dataframe tbody tr th:only-of-type {\n",
       "        vertical-align: middle;\n",
       "    }\n",
       "\n",
       "    .dataframe tbody tr th {\n",
       "        vertical-align: top;\n",
       "    }\n",
       "\n",
       "    .dataframe thead th {\n",
       "        text-align: right;\n",
       "    }\n",
       "</style>\n",
       "<table border=\"1\" class=\"dataframe\">\n",
       "  <thead>\n",
       "    <tr style=\"text-align: right;\">\n",
       "      <th></th>\n",
       "      <th>tweet_text</th>\n",
       "      <th>sentiment</th>\n",
       "    </tr>\n",
       "  </thead>\n",
       "  <tbody>\n",
       "    <tr>\n",
       "      <th>0</th>\n",
       "      <td>Esquerda e direita empatam na Suécia; ultranac...</td>\n",
       "      <td>Neutro</td>\n",
       "    </tr>\n",
       "    <tr>\n",
       "      <th>1</th>\n",
       "      <td>Ao vivo: Estadão e TV Gazeta realizam terceiro...</td>\n",
       "      <td>Neutro</td>\n",
       "    </tr>\n",
       "    <tr>\n",
       "      <th>2</th>\n",
       "      <td>FOTOS: Apoiadores de Jair Bolsonaro realizam a...</td>\n",
       "      <td>Neutro</td>\n",
       "    </tr>\n",
       "    <tr>\n",
       "      <th>3</th>\n",
       "      <td>Barroso ameaça barrar propaganda se PT insisti...</td>\n",
       "      <td>Neutro</td>\n",
       "    </tr>\n",
       "    <tr>\n",
       "      <th>4</th>\n",
       "      <td>Serena Williams é multada pelo comportamento d...</td>\n",
       "      <td>Neutro</td>\n",
       "    </tr>\n",
       "    <tr>\n",
       "      <th>...</th>\n",
       "      <td>...</td>\n",
       "      <td>...</td>\n",
       "    </tr>\n",
       "    <tr>\n",
       "      <th>785809</th>\n",
       "      <td>Acordar 8 horas é tão bom :)</td>\n",
       "      <td>Positivo</td>\n",
       "    </tr>\n",
       "    <tr>\n",
       "      <th>785810</th>\n",
       "      <td>@mayckcunha Olá, Mayck. Você já é cliente Clar...</td>\n",
       "      <td>Positivo</td>\n",
       "    </tr>\n",
       "    <tr>\n",
       "      <th>785811</th>\n",
       "      <td>Opa tava na merda mm e fiquei logo mais feliz ...</td>\n",
       "      <td>Positivo</td>\n",
       "    </tr>\n",
       "    <tr>\n",
       "      <th>785812</th>\n",
       "      <td>@andrebraga2806 Foi como a tua lealdade :)</td>\n",
       "      <td>Positivo</td>\n",
       "    </tr>\n",
       "    <tr>\n",
       "      <th>785813</th>\n",
       "      <td>Feliz dia das crianças!! De hoje e de ontem......</td>\n",
       "      <td>Positivo</td>\n",
       "    </tr>\n",
       "  </tbody>\n",
       "</table>\n",
       "<p>900688 rows × 2 columns</p>\n",
       "</div>"
      ],
      "text/plain": [
       "                                               tweet_text sentiment\n",
       "0       Esquerda e direita empatam na Suécia; ultranac...    Neutro\n",
       "1       Ao vivo: Estadão e TV Gazeta realizam terceiro...    Neutro\n",
       "2       FOTOS: Apoiadores de Jair Bolsonaro realizam a...    Neutro\n",
       "3       Barroso ameaça barrar propaganda se PT insisti...    Neutro\n",
       "4       Serena Williams é multada pelo comportamento d...    Neutro\n",
       "...                                                   ...       ...\n",
       "785809                       Acordar 8 horas é tão bom :)  Positivo\n",
       "785810  @mayckcunha Olá, Mayck. Você já é cliente Clar...  Positivo\n",
       "785811  Opa tava na merda mm e fiquei logo mais feliz ...  Positivo\n",
       "785812         @andrebraga2806 Foi como a tua lealdade :)  Positivo\n",
       "785813  Feliz dia das crianças!! De hoje e de ontem......  Positivo\n",
       "\n",
       "[900688 rows x 2 columns]"
      ]
     },
     "execution_count": 6,
     "metadata": {},
     "output_type": "execute_result"
    }
   ],
   "source": [
    "data"
   ]
  },
  {
   "cell_type": "code",
   "execution_count": 7,
   "metadata": {},
   "outputs": [],
   "source": [
    "data = data.drop_duplicates()"
   ]
  },
  {
   "cell_type": "code",
   "execution_count": 8,
   "metadata": {},
   "outputs": [
    {
     "data": {
      "text/html": [
       "<div>\n",
       "<style scoped>\n",
       "    .dataframe tbody tr th:only-of-type {\n",
       "        vertical-align: middle;\n",
       "    }\n",
       "\n",
       "    .dataframe tbody tr th {\n",
       "        vertical-align: top;\n",
       "    }\n",
       "\n",
       "    .dataframe thead th {\n",
       "        text-align: right;\n",
       "    }\n",
       "</style>\n",
       "<table border=\"1\" class=\"dataframe\">\n",
       "  <thead>\n",
       "    <tr style=\"text-align: right;\">\n",
       "      <th></th>\n",
       "      <th>tweet_text</th>\n",
       "      <th>sentiment</th>\n",
       "    </tr>\n",
       "  </thead>\n",
       "  <tbody>\n",
       "    <tr>\n",
       "      <th>0</th>\n",
       "      <td>Esquerda e direita empatam na Suécia; ultranac...</td>\n",
       "      <td>Neutro</td>\n",
       "    </tr>\n",
       "    <tr>\n",
       "      <th>1</th>\n",
       "      <td>Ao vivo: Estadão e TV Gazeta realizam terceiro...</td>\n",
       "      <td>Neutro</td>\n",
       "    </tr>\n",
       "    <tr>\n",
       "      <th>2</th>\n",
       "      <td>FOTOS: Apoiadores de Jair Bolsonaro realizam a...</td>\n",
       "      <td>Neutro</td>\n",
       "    </tr>\n",
       "    <tr>\n",
       "      <th>3</th>\n",
       "      <td>Barroso ameaça barrar propaganda se PT insisti...</td>\n",
       "      <td>Neutro</td>\n",
       "    </tr>\n",
       "    <tr>\n",
       "      <th>4</th>\n",
       "      <td>Serena Williams é multada pelo comportamento d...</td>\n",
       "      <td>Neutro</td>\n",
       "    </tr>\n",
       "    <tr>\n",
       "      <th>...</th>\n",
       "      <td>...</td>\n",
       "      <td>...</td>\n",
       "    </tr>\n",
       "    <tr>\n",
       "      <th>785809</th>\n",
       "      <td>Acordar 8 horas é tão bom :)</td>\n",
       "      <td>Positivo</td>\n",
       "    </tr>\n",
       "    <tr>\n",
       "      <th>785810</th>\n",
       "      <td>@mayckcunha Olá, Mayck. Você já é cliente Clar...</td>\n",
       "      <td>Positivo</td>\n",
       "    </tr>\n",
       "    <tr>\n",
       "      <th>785811</th>\n",
       "      <td>Opa tava na merda mm e fiquei logo mais feliz ...</td>\n",
       "      <td>Positivo</td>\n",
       "    </tr>\n",
       "    <tr>\n",
       "      <th>785812</th>\n",
       "      <td>@andrebraga2806 Foi como a tua lealdade :)</td>\n",
       "      <td>Positivo</td>\n",
       "    </tr>\n",
       "    <tr>\n",
       "      <th>785813</th>\n",
       "      <td>Feliz dia das crianças!! De hoje e de ontem......</td>\n",
       "      <td>Positivo</td>\n",
       "    </tr>\n",
       "  </tbody>\n",
       "</table>\n",
       "<p>879730 rows × 2 columns</p>\n",
       "</div>"
      ],
      "text/plain": [
       "                                               tweet_text sentiment\n",
       "0       Esquerda e direita empatam na Suécia; ultranac...    Neutro\n",
       "1       Ao vivo: Estadão e TV Gazeta realizam terceiro...    Neutro\n",
       "2       FOTOS: Apoiadores de Jair Bolsonaro realizam a...    Neutro\n",
       "3       Barroso ameaça barrar propaganda se PT insisti...    Neutro\n",
       "4       Serena Williams é multada pelo comportamento d...    Neutro\n",
       "...                                                   ...       ...\n",
       "785809                       Acordar 8 horas é tão bom :)  Positivo\n",
       "785810  @mayckcunha Olá, Mayck. Você já é cliente Clar...  Positivo\n",
       "785811  Opa tava na merda mm e fiquei logo mais feliz ...  Positivo\n",
       "785812         @andrebraga2806 Foi como a tua lealdade :)  Positivo\n",
       "785813  Feliz dia das crianças!! De hoje e de ontem......  Positivo\n",
       "\n",
       "[879730 rows x 2 columns]"
      ]
     },
     "execution_count": 8,
     "metadata": {},
     "output_type": "execute_result"
    }
   ],
   "source": [
    "data"
   ]
  },
  {
   "cell_type": "code",
   "execution_count": 9,
   "metadata": {},
   "outputs": [],
   "source": [
    "data.columns = ['text','sentiment']"
   ]
  },
  {
   "cell_type": "code",
   "execution_count": 10,
   "metadata": {},
   "outputs": [
    {
     "name": "stdout",
     "output_type": "stream",
     "text": [
      "Negativo    541045\n",
      "Positivo    285695\n",
      "Neutro       52990\n",
      "Name: sentiment, dtype: int64\n"
     ]
    },
    {
     "data": {
      "text/plain": [
       "<matplotlib.axes._subplots.AxesSubplot at 0x7f41c6a88510>"
      ]
     },
     "execution_count": 10,
     "metadata": {},
     "output_type": "execute_result"
    },
    {
     "data": {
      "image/png": "[encoded data removed]",
      "text/plain": [
       "<Figure size 432x288 with 1 Axes>"
      ]
     },
     "metadata": {
      "needs_background": "light"
     },
     "output_type": "display_data"
    }
   ],
   "source": [
    "print(data.sentiment.value_counts())\n",
    "data.sentiment.value_counts().plot(kind='bar')"
   ]
  },
  {
   "cell_type": "markdown",
   "metadata": {},
   "source": [
    "# Limpando os dados"
   ]
  },
  {
   "cell_type": "code",
   "execution_count": 11,
   "metadata": {},
   "outputs": [
    {
     "name": "stderr",
     "output_type": "stream",
     "text": [
      "/home/rafael/anaconda3/lib/python3.7/site-packages/pandas/core/generic.py:5303: SettingWithCopyWarning: \n",
      "A value is trying to be set on a copy of a slice from a DataFrame.\n",
      "Try using .loc[row_indexer,col_indexer] = value instead\n",
      "\n",
      "See the caveats in the documentation: https://pandas.pydata.org/pandas-docs/stable/user_guide/indexing.html#returning-a-view-versus-a-copy\n",
      "  self[name] = value\n"
     ]
    }
   ],
   "source": [
    "data.text = data.text.apply(lambda x: x.lower())\n",
    "data.text = data.text.apply(lambda x: sub('(@[a-zA-z]+[a-zA-Z0-9-_]+)', '', x))\n",
    "data.text = data.text.apply(lambda x: sub('(#[a-zA-Z]+[a-zA-A0-9-_]+)', '', x))\n",
    "data.text = data.text.apply(lambda x: sub('rt', '', x))\n",
    "data.text = data.text.apply(lambda x: sub('\\<http.+?\\>', '', x))\n",
    "data.text = data.text.apply(lambda x: ''.join([i for i in x if i not in string.punctuation]))\n",
    "data.text = data.text.apply(lambda x: sub(' +', ' ', x))"
   ]
  },
  {
   "cell_type": "code",
   "execution_count": 12,
   "metadata": {},
   "outputs": [
    {
     "data": {
      "text/html": [
       "<div>\n",
       "<style scoped>\n",
       "    .dataframe tbody tr th:only-of-type {\n",
       "        vertical-align: middle;\n",
       "    }\n",
       "\n",
       "    .dataframe tbody tr th {\n",
       "        vertical-align: top;\n",
       "    }\n",
       "\n",
       "    .dataframe thead th {\n",
       "        text-align: right;\n",
       "    }\n",
       "</style>\n",
       "<table border=\"1\" class=\"dataframe\">\n",
       "  <thead>\n",
       "    <tr style=\"text-align: right;\">\n",
       "      <th></th>\n",
       "      <th>text</th>\n",
       "      <th>sentiment</th>\n",
       "    </tr>\n",
       "  </thead>\n",
       "  <tbody>\n",
       "    <tr>\n",
       "      <th>0</th>\n",
       "      <td>esquerda e direita empatam na suécia ultranaci...</td>\n",
       "      <td>Neutro</td>\n",
       "    </tr>\n",
       "    <tr>\n",
       "      <th>1</th>\n",
       "      <td>ao vivo estadão e tv gazeta realizam terceiro ...</td>\n",
       "      <td>Neutro</td>\n",
       "    </tr>\n",
       "    <tr>\n",
       "      <th>2</th>\n",
       "      <td>fotos apoiadores de jair bolsonaro realizam at...</td>\n",
       "      <td>Neutro</td>\n",
       "    </tr>\n",
       "    <tr>\n",
       "      <th>3</th>\n",
       "      <td>barroso ameaça barrar propaganda se pt insisti...</td>\n",
       "      <td>Neutro</td>\n",
       "    </tr>\n",
       "    <tr>\n",
       "      <th>4</th>\n",
       "      <td>serena williams é multada pelo compoamento dur...</td>\n",
       "      <td>Neutro</td>\n",
       "    </tr>\n",
       "    <tr>\n",
       "      <th>...</th>\n",
       "      <td>...</td>\n",
       "      <td>...</td>\n",
       "    </tr>\n",
       "    <tr>\n",
       "      <th>785809</th>\n",
       "      <td>acordar 8 horas é tão bom</td>\n",
       "      <td>Positivo</td>\n",
       "    </tr>\n",
       "    <tr>\n",
       "      <th>785810</th>\n",
       "      <td>olá mayck você já é cliente claro caso não se...</td>\n",
       "      <td>Positivo</td>\n",
       "    </tr>\n",
       "    <tr>\n",
       "      <th>785811</th>\n",
       "      <td>opa tava na merda mm e fiquei logo mais feliz ...</td>\n",
       "      <td>Positivo</td>\n",
       "    </tr>\n",
       "    <tr>\n",
       "      <th>785812</th>\n",
       "      <td>foi como a tua lealdade</td>\n",
       "      <td>Positivo</td>\n",
       "    </tr>\n",
       "    <tr>\n",
       "      <th>785813</th>\n",
       "      <td>feliz dia das crianças de hoje e de ontem http...</td>\n",
       "      <td>Positivo</td>\n",
       "    </tr>\n",
       "  </tbody>\n",
       "</table>\n",
       "<p>879730 rows × 2 columns</p>\n",
       "</div>"
      ],
      "text/plain": [
       "                                                     text sentiment\n",
       "0       esquerda e direita empatam na suécia ultranaci...    Neutro\n",
       "1       ao vivo estadão e tv gazeta realizam terceiro ...    Neutro\n",
       "2       fotos apoiadores de jair bolsonaro realizam at...    Neutro\n",
       "3       barroso ameaça barrar propaganda se pt insisti...    Neutro\n",
       "4       serena williams é multada pelo compoamento dur...    Neutro\n",
       "...                                                   ...       ...\n",
       "785809                         acordar 8 horas é tão bom   Positivo\n",
       "785810   olá mayck você já é cliente claro caso não se...  Positivo\n",
       "785811  opa tava na merda mm e fiquei logo mais feliz ...  Positivo\n",
       "785812                           foi como a tua lealdade   Positivo\n",
       "785813  feliz dia das crianças de hoje e de ontem http...  Positivo\n",
       "\n",
       "[879730 rows x 2 columns]"
      ]
     },
     "execution_count": 12,
     "metadata": {},
     "output_type": "execute_result"
    }
   ],
   "source": [
    "data"
   ]
  },
  {
   "cell_type": "markdown",
   "metadata": {},
   "source": [
    "# Tamanho da sentença"
   ]
  },
  {
   "cell_type": "code",
   "execution_count": 13,
   "metadata": {},
   "outputs": [
    {
     "data": {
      "text/plain": [
       "85"
      ]
     },
     "execution_count": 13,
     "metadata": {},
     "output_type": "execute_result"
    }
   ],
   "source": [
    "tm = []\n",
    "for t in data.text:\n",
    "    tm.append(len(t.split(' ')))\n",
    "tamanho_txt = np.max(tm)\n",
    "tamanho_txt"
   ]
  },
  {
   "cell_type": "markdown",
   "metadata": {},
   "source": [
    "# Token e Padding"
   ]
  },
  {
   "cell_type": "code",
   "execution_count": 14,
   "metadata": {},
   "outputs": [
    {
     "name": "stdout",
     "output_type": "stream",
     "text": [
      "Total de palavras:  451307\n"
     ]
    }
   ],
   "source": [
    "tk = Tokenizer()\n",
    "tk.fit_on_texts(data.text.values)\n",
    "word_index = tk.word_index\n",
    "total_palavras = len(word_index)+1\n",
    "print('Total de palavras: ', total_palavras)"
   ]
  },
  {
   "cell_type": "code",
   "execution_count": 15,
   "metadata": {},
   "outputs": [
    {
     "name": "stdout",
     "output_type": "stream",
     "text": [
      "Palavras raras:  395630\n",
      "Tamanho do vocabulário:  451306\n",
      "Palavras mais comuns:  55676\n"
     ]
    }
   ],
   "source": [
    "# Frequência\n",
    "\n",
    "minimo = 4\n",
    "cnt = 0\n",
    "tot_cnt = 0\n",
    "freq = 0\n",
    "tot_freq = 0\n",
    "\n",
    "for key,value in tk.word_counts.items():\n",
    "    tot_cnt = tot_cnt + 1\n",
    "    tot_freq = tot_freq + value\n",
    "    if(value < minimo):\n",
    "        cnt = cnt + 1\n",
    "        freq = freq + value\n",
    "\n",
    "print('Palavras raras: ', cnt)\n",
    "print('Tamanho do vocabulário: ', tot_cnt)\n",
    "print('Palavras mais comuns: ', tot_cnt-cnt)\n",
    "total_palavras = tot_cnt-cnt"
   ]
  },
  {
   "cell_type": "code",
   "execution_count": 16,
   "metadata": {},
   "outputs": [],
   "source": [
    "tk = Tokenizer(tot_cnt-cnt)\n",
    "tk.fit_on_texts(list(data.text))"
   ]
  },
  {
   "cell_type": "code",
   "execution_count": 17,
   "metadata": {},
   "outputs": [
    {
     "data": {
      "text/plain": [
       "(879730, 85)"
      ]
     },
     "execution_count": 17,
     "metadata": {},
     "output_type": "execute_result"
    }
   ],
   "source": [
    "x = tk.texts_to_sequences(data.text.values)\n",
    "x = pad_sequences(x, maxlen = tamanho_txt, padding='post')\n",
    "x.shape"
   ]
  },
  {
   "cell_type": "code",
   "execution_count": 18,
   "metadata": {},
   "outputs": [
    {
     "data": {
      "text/plain": [
       "(879730, 3)"
      ]
     },
     "execution_count": 18,
     "metadata": {},
     "output_type": "execute_result"
    }
   ],
   "source": [
    "y = pd.get_dummies(data.sentiment.values)\n",
    "y.shape"
   ]
  },
  {
   "cell_type": "markdown",
   "metadata": {},
   "source": [
    "# Separando os dados para treino e teste"
   ]
  },
  {
   "cell_type": "code",
   "execution_count": 19,
   "metadata": {},
   "outputs": [
    {
     "name": "stdout",
     "output_type": "stream",
     "text": [
      "(703784, 85) (703784, 3)\n",
      "(175946, 85) (175946, 3)\n"
     ]
    }
   ],
   "source": [
    "x_treino, x_teste, y_treino, y_teste = train_test_split(x, y, test_size = .2)\n",
    "print(x_treino.shape, y_treino.shape)\n",
    "print(x_teste.shape, y_teste.shape)"
   ]
  },
  {
   "cell_type": "markdown",
   "metadata": {},
   "source": [
    "# Defininfo o modelo"
   ]
  },
  {
   "cell_type": "code",
   "execution_count": 20,
   "metadata": {},
   "outputs": [
    {
     "name": "stdout",
     "output_type": "stream",
     "text": [
      "Model: \"sequential_1\"\n",
      "_________________________________________________________________\n",
      "Layer (type)                 Output Shape              Param #   \n",
      "=================================================================\n",
      "embedding_1 (Embedding)      (None, 85, 30)            1670280   \n",
      "_________________________________________________________________\n",
      "spatial_dropout1d_1 (Spatial (None, 85, 30)            0         \n",
      "_________________________________________________________________\n",
      "global_average_pooling1d_1 ( (None, 30)                0         \n",
      "_________________________________________________________________\n",
      "dense_1 (Dense)              (None, 21)                651       \n",
      "_________________________________________________________________\n",
      "dense_2 (Dense)              (None, 3)                 66        \n",
      "=================================================================\n",
      "Total params: 1,670,997\n",
      "Trainable params: 1,670,997\n",
      "Non-trainable params: 0\n",
      "_________________________________________________________________\n"
     ]
    }
   ],
   "source": [
    "\n",
    "embedding_dim = 30\n",
    "\n",
    "model = Sequential()\n",
    "model.add(Embedding(total_palavras, embedding_dim, input_length=x.shape[1]))\n",
    "model.add(SpatialDropout1D(0.4))\n",
    "model.add(GlobalAveragePooling1D())\n",
    "model.add(Dense(21, activation='relu'))\n",
    "model.add(Dense(3, activation='softmax'))\n",
    "model.compile(loss='categorical_crossentropy', optimizer='adam', metrics=['accuracy'])\n",
    "model.summary()"
   ]
  },
  {
   "cell_type": "code",
   "execution_count": 21,
   "metadata": {},
   "outputs": [
    {
     "name": "stderr",
     "output_type": "stream",
     "text": [
      "/home/rafael/anaconda3/lib/python3.7/site-packages/tensorflow_core/python/framework/indexed_slices.py:433: UserWarning: Converting sparse IndexedSlices to a dense Tensor of unknown shape. This may consume a large amount of memory.\n",
      "  \"Converting sparse IndexedSlices to a dense Tensor of unknown shape. \"\n"
     ]
    },
    {
     "name": "stdout",
     "output_type": "stream",
     "text": [
      "Train on 703784 samples, validate on 175946 samples\n",
      "Epoch 1/100\n",
      "703784/703784 [==============================] - 14s 20us/step - loss: 0.5320 - accuracy: 0.7645 - val_loss: 0.4324 - val_accuracy: 0.8136\n",
      "\n",
      "Epoch 00001: val_loss improved from inf to 0.43238, saving model to melhor_modelo.h5\n",
      "Epoch 2/100\n",
      "703784/703784 [==============================] - 14s 20us/step - loss: 0.4253 - accuracy: 0.8175 - val_loss: 0.4154 - val_accuracy: 0.8217\n",
      "\n",
      "Epoch 00002: val_loss improved from 0.43238 to 0.41542, saving model to melhor_modelo.h5\n",
      "Epoch 3/100\n",
      "703784/703784 [==============================] - 14s 19us/step - loss: 0.4052 - accuracy: 0.8260 - val_loss: 0.4113 - val_accuracy: 0.8236\n",
      "\n",
      "Epoch 00003: val_loss improved from 0.41542 to 0.41134, saving model to melhor_modelo.h5\n",
      "Epoch 4/100\n",
      "703784/703784 [==============================] - 14s 19us/step - loss: 0.3935 - accuracy: 0.8318 - val_loss: 0.4154 - val_accuracy: 0.8232\n",
      "\n",
      "Epoch 00004: val_loss did not improve from 0.41134\n",
      "Epoch 5/100\n",
      "703784/703784 [==============================] - 14s 20us/step - loss: 0.3848 - accuracy: 0.8355 - val_loss: 0.4147 - val_accuracy: 0.8210\n",
      "\n",
      "Epoch 00005: val_loss did not improve from 0.41134\n",
      "Epoch 6/100\n",
      "703784/703784 [==============================] - 14s 20us/step - loss: 0.3783 - accuracy: 0.8389 - val_loss: 0.4135 - val_accuracy: 0.8245\n",
      "\n",
      "Epoch 00006: val_loss did not improve from 0.41134\n"
     ]
    }
   ],
   "source": [
    "epochs = 100\n",
    "batch_size = 128\n",
    "\n",
    "\n",
    "filename = 'melhor_modelo.h5'\n",
    "parada = EarlyStopping(monitor='val_loss',patience=3, min_delta=0.0001)\n",
    "check = ModelCheckpoint(filename, monitor='val_loss', verbose=1, save_best_only=True, mode='min')\n",
    "\n",
    "modelo = model.fit(x_treino, y_treino, epochs=epochs, batch_size=batch_size, verbose=1,\n",
    "                  validation_data=(x_teste, y_teste), callbacks=[check, parada])"
   ]
  },
  {
   "cell_type": "code",
   "execution_count": 22,
   "metadata": {},
   "outputs": [
    {
     "name": "stdout",
     "output_type": "stream",
     "text": [
      "Acurácia:  82.44688510894775\n"
     ]
    }
   ],
   "source": [
    "loss, acc = model.evaluate(x_teste, y_teste, verbose=0)\n",
    "print('Acurácia: ', acc*100)"
   ]
  },
  {
   "cell_type": "code",
   "execution_count": 23,
   "metadata": {},
   "outputs": [
    {
     "data": {
      "image/png": "[encoded data removed]",
      "text/plain": [
       "<Figure size 432x288 with 1 Axes>"
      ]
     },
     "metadata": {
      "needs_background": "light"
     },
     "output_type": "display_data"
    }
   ],
   "source": [
    "plt.plot(modelo.history['accuracy'])\n",
    "plt.plot(modelo.history['val_accuracy'])\n",
    "plt.xlabel('Epochs')\n",
    "plt.ylabel('Acurácia')\n",
    "plt.legend(['Acurácia em Treino','Acurácia em Teste'])\n",
    "plt.show()"
   ]
  },
  {
   "cell_type": "code",
   "execution_count": 24,
   "metadata": {},
   "outputs": [
    {
     "data": {
      "image/png": "[encoded data removed]",
      "text/plain": [
       "<Figure size 432x288 with 1 Axes>"
      ]
     },
     "metadata": {
      "needs_background": "light"
     },
     "output_type": "display_data"
    }
   ],
   "source": [
    "plt.plot(modelo.history['loss'])\n",
    "plt.plot(modelo.history['val_loss'])\n",
    "plt.xlabel('Epochs')\n",
    "plt.ylabel('Erro')\n",
    "plt.legend(['Erro em Treino','Erro em Teste'])\n",
    "plt.show()"
   ]
  }
 ],
 "metadata": {
  "kernelspec": {
   "display_name": "Python 3",
   "language": "python",
   "name": "python3"
  },
  "language_info": {
   "codemirror_mode": {
    "name": "ipython",
    "version": 3
   },
   "file_extension": ".py",
   "mimetype": "text/x-python",
   "name": "python",
   "nbconvert_exporter": "python",
   "pygments_lexer": "ipython3",
   "version": "3.7.7"
  }
 },
 "nbformat": 4,
 "nbformat_minor": 4
}
