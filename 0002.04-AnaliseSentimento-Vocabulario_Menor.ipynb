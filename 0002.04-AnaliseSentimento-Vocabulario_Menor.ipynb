{
 "cells": [
  {
   "cell_type": "code",
   "execution_count": 1,
   "metadata": {},
   "outputs": [
    {
     "name": "stderr",
     "output_type": "stream",
     "text": [
      "Using TensorFlow backend.\n"
     ]
    }
   ],
   "source": [
    "import numpy as np\n",
    "import pandas as pd\n",
    "import string\n",
    "import re\n",
    "from sklearn.model_selection import train_test_split\n",
    "from keras.preprocessing.text import Tokenizer\n",
    "from keras.preprocessing.sequence import pad_sequences\n",
    "from keras.models import Sequential\n",
    "from keras.layers import Embedding, LSTM, Dense\n",
    "from keras.callbacks import EarlyStopping, ModelCheckpoint\n",
    "import matplotlib.pyplot as plt"
   ]
  },
  {
   "cell_type": "markdown",
   "metadata": {},
   "source": [
    "### Carregando os Dados e lendo os Dados"
   ]
  },
  {
   "cell_type": "code",
   "execution_count": 2,
   "metadata": {},
   "outputs": [],
   "source": [
    "df = pd.read_csv('dataset/Sentimento/Sentiment.csv', usecols=[5,15])"
   ]
  },
  {
   "cell_type": "code",
   "execution_count": 3,
   "metadata": {},
   "outputs": [
    {
     "data": {
      "text/html": [
       "<div>\n",
       "<style scoped>\n",
       "    .dataframe tbody tr th:only-of-type {\n",
       "        vertical-align: middle;\n",
       "    }\n",
       "\n",
       "    .dataframe tbody tr th {\n",
       "        vertical-align: top;\n",
       "    }\n",
       "\n",
       "    .dataframe thead th {\n",
       "        text-align: right;\n",
       "    }\n",
       "</style>\n",
       "<table border=\"1\" class=\"dataframe\">\n",
       "  <thead>\n",
       "    <tr style=\"text-align: right;\">\n",
       "      <th></th>\n",
       "      <th>sentiment</th>\n",
       "      <th>text</th>\n",
       "    </tr>\n",
       "  </thead>\n",
       "  <tbody>\n",
       "    <tr>\n",
       "      <th>0</th>\n",
       "      <td>Neutral</td>\n",
       "      <td>RT @NancyLeeGrahn: How did everyone feel about...</td>\n",
       "    </tr>\n",
       "    <tr>\n",
       "      <th>1</th>\n",
       "      <td>Positive</td>\n",
       "      <td>RT @ScottWalker: Didn't catch the full #GOPdeb...</td>\n",
       "    </tr>\n",
       "    <tr>\n",
       "      <th>2</th>\n",
       "      <td>Neutral</td>\n",
       "      <td>RT @TJMShow: No mention of Tamir Rice and the ...</td>\n",
       "    </tr>\n",
       "    <tr>\n",
       "      <th>3</th>\n",
       "      <td>Positive</td>\n",
       "      <td>RT @RobGeorge: That Carly Fiorina is trending ...</td>\n",
       "    </tr>\n",
       "    <tr>\n",
       "      <th>4</th>\n",
       "      <td>Positive</td>\n",
       "      <td>RT @DanScavino: #GOPDebate w/ @realDonaldTrump...</td>\n",
       "    </tr>\n",
       "  </tbody>\n",
       "</table>\n",
       "</div>"
      ],
      "text/plain": [
       "  sentiment                                               text\n",
       "0   Neutral  RT @NancyLeeGrahn: How did everyone feel about...\n",
       "1  Positive  RT @ScottWalker: Didn't catch the full #GOPdeb...\n",
       "2   Neutral  RT @TJMShow: No mention of Tamir Rice and the ...\n",
       "3  Positive  RT @RobGeorge: That Carly Fiorina is trending ...\n",
       "4  Positive  RT @DanScavino: #GOPDebate w/ @realDonaldTrump..."
      ]
     },
     "execution_count": 3,
     "metadata": {},
     "output_type": "execute_result"
    }
   ],
   "source": [
    "df.head()"
   ]
  },
  {
   "cell_type": "code",
   "execution_count": 4,
   "metadata": {},
   "outputs": [
    {
     "name": "stdout",
     "output_type": "stream",
     "text": [
      "<class 'pandas.core.frame.DataFrame'>\n",
      "RangeIndex: 13871 entries, 0 to 13870\n",
      "Data columns (total 2 columns):\n",
      " #   Column     Non-Null Count  Dtype \n",
      "---  ------     --------------  ----- \n",
      " 0   sentiment  13871 non-null  object\n",
      " 1   text       13871 non-null  object\n",
      "dtypes: object(2)\n",
      "memory usage: 216.9+ KB\n"
     ]
    }
   ],
   "source": [
    "df.info()"
   ]
  },
  {
   "cell_type": "code",
   "execution_count": 5,
   "metadata": {},
   "outputs": [],
   "source": [
    "df = df[df.sentiment != 'Neutral']"
   ]
  },
  {
   "cell_type": "code",
   "execution_count": 6,
   "metadata": {},
   "outputs": [
    {
     "name": "stdout",
     "output_type": "stream",
     "text": [
      "Negative    8493\n",
      "Positive    2236\n",
      "Name: sentiment, dtype: int64\n"
     ]
    },
    {
     "data": {
      "text/plain": [
       "<matplotlib.axes._subplots.AxesSubplot at 0x7fe8af6ee250>"
      ]
     },
     "execution_count": 6,
     "metadata": {},
     "output_type": "execute_result"
    },
    {
     "data": {
      "image/png": "[encoded data removed]",
      "text/plain": [
       "<Figure size 432x288 with 1 Axes>"
      ]
     },
     "metadata": {
      "needs_background": "light"
     },
     "output_type": "display_data"
    }
   ],
   "source": [
    "print(df.sentiment.value_counts())\n",
    "df.sentiment.value_counts().plot(kind='bar')"
   ]
  },
  {
   "cell_type": "code",
   "execution_count": 7,
   "metadata": {},
   "outputs": [
    {
     "data": {
      "text/plain": [
       "sentiment    0\n",
       "text         0\n",
       "dtype: int64"
      ]
     },
     "execution_count": 7,
     "metadata": {},
     "output_type": "execute_result"
    }
   ],
   "source": [
    "df.isnull().sum()"
   ]
  },
  {
   "cell_type": "code",
   "execution_count": 8,
   "metadata": {},
   "outputs": [
    {
     "data": {
      "text/plain": [
       "sentiment    0\n",
       "text         0\n",
       "dtype: int64"
      ]
     },
     "execution_count": 8,
     "metadata": {},
     "output_type": "execute_result"
    }
   ],
   "source": [
    "df.isna().sum()"
   ]
  },
  {
   "cell_type": "markdown",
   "metadata": {},
   "source": [
    "### Criando um dicionário para substituir as palavras contraídas "
   ]
  },
  {
   "cell_type": "code",
   "execution_count": 9,
   "metadata": {},
   "outputs": [],
   "source": [
    "contraction_mapping = {\"ain't\": \"is not\", \"aren't\": \"are not\",\"can't\": \"cannot\", \"'cause\": \"because\", \"could've\": \"could have\", \"couldn't\": \"could not\",\n",
    "                           \"didn't\": \"did not\", \"doesn't\": \"does not\", \"don't\": \"do not\", \"hadn't\": \"had not\", \"hasn't\": \"has not\", \"haven't\": \"have not\",\n",
    "                           \"he'd\": \"he would\",\"he'll\": \"he will\", \"he's\": \"he is\", \"how'd\": \"how did\", \"how'd'y\": \"how do you\", \"how'll\": \"how will\", \"how's\": \"how is\",\n",
    "                           \"I'd\": \"I would\", \"I'd've\": \"I would have\", \"I'll\": \"I will\", \"I'll've\": \"I will have\",\"I'm\": \"I am\", \"I've\": \"I have\", \"i'd\": \"i would\",\n",
    "                           \"i'd've\": \"i would have\", \"i'll\": \"i will\",  \"i'll've\": \"i will have\",\"i'm\": \"i am\", \"i've\": \"i have\", \"isn't\": \"is not\", \"it'd\": \"it would\",\n",
    "                           \"it'd've\": \"it would have\", \"it'll\": \"it will\", \"it'll've\": \"it will have\",\"it's\": \"it is\", \"let's\": \"let us\", \"ma'am\": \"madam\",\n",
    "                           \"mayn't\": \"may not\", \"might've\": \"might have\",\"mightn't\": \"might not\",\"mightn't've\": \"might not have\", \"must've\": \"must have\",\n",
    "                           \"mustn't\": \"must not\", \"mustn't've\": \"must not have\", \"needn't\": \"need not\", \"needn't've\": \"need not have\",\"o'clock\": \"of the clock\",\n",
    "                           \"oughtn't\": \"ought not\", \"oughtn't've\": \"ought not have\", \"shan't\": \"shall not\", \"sha'n't\": \"shall not\", \"shan't've\": \"shall not have\",\n",
    "                           \"she'd\": \"she would\", \"she'd've\": \"she would have\", \"she'll\": \"she will\", \"she'll've\": \"she will have\", \"she's\": \"she is\",\n",
    "                           \"should've\": \"should have\", \"shouldn't\": \"should not\", \"shouldn't've\": \"should not have\", \"so've\": \"so have\",\"so's\": \"so as\",\n",
    "                           \"this's\": \"this is\",\"that'd\": \"that would\", \"that'd've\": \"that would have\", \"that's\": \"that is\", \"there'd\": \"there would\",\n",
    "                           \"there'd've\": \"there would have\", \"there's\": \"there is\", \"here's\": \"here is\",\"they'd\": \"they would\", \"they'd've\": \"they would have\",\n",
    "                           \"they'll\": \"they will\", \"they'll've\": \"they will have\", \"they're\": \"they are\", \"they've\": \"they have\", \"to've\": \"to have\",\n",
    "                           \"wasn't\": \"was not\", \"we'd\": \"we would\", \"we'd've\": \"we would have\", \"we'll\": \"we will\", \"we'll've\": \"we will have\", \"we're\": \"we are\",\n",
    "                           \"we've\": \"we have\", \"weren't\": \"were not\", \"what'll\": \"what will\", \"what'll've\": \"what will have\", \"what're\": \"what are\",\n",
    "                           \"what's\": \"what is\", \"what've\": \"what have\", \"when's\": \"when is\", \"when've\": \"when have\", \"where'd\": \"where did\", \"where's\": \"where is\",\n",
    "                           \"where've\": \"where have\", \"who'll\": \"who will\", \"who'll've\": \"who will have\", \"who's\": \"who is\", \"who've\": \"who have\",\n",
    "                           \"why's\": \"why is\", \"why've\": \"why have\", \"will've\": \"will have\", \"won't\": \"will not\", \"won't've\": \"will not have\",\n",
    "                           \"would've\": \"would have\", \"wouldn't\": \"would not\", \"wouldn't've\": \"would not have\", \"y'all\": \"you all\",\n",
    "                           \"y'all'd\": \"you all would\",\"y'all'd've\": \"you all would have\",\"y'all're\": \"you all are\",\"y'all've\": \"you all have\",\n",
    "                           \"you'd\": \"you would\", \"you'd've\": \"you would have\", \"you'll\": \"you will\", \"you'll've\": \"you will have\",\n",
    "                           \"you're\": \"you are\", \"you've\": \"you have\"}"
   ]
  },
  {
   "cell_type": "markdown",
   "metadata": {},
   "source": [
    "### Limpeza\n",
    "* Palavras em minuscula \n",
    "* Removendo rt do ínicio\n",
    "* Substituindo as contrações\n",
    "* Removendo caracteres especias"
   ]
  },
  {
   "cell_type": "code",
   "execution_count": 10,
   "metadata": {},
   "outputs": [
    {
     "data": {
      "text/html": [
       "<div>\n",
       "<style scoped>\n",
       "    .dataframe tbody tr th:only-of-type {\n",
       "        vertical-align: middle;\n",
       "    }\n",
       "\n",
       "    .dataframe tbody tr th {\n",
       "        vertical-align: top;\n",
       "    }\n",
       "\n",
       "    .dataframe thead th {\n",
       "        text-align: right;\n",
       "    }\n",
       "</style>\n",
       "<table border=\"1\" class=\"dataframe\">\n",
       "  <thead>\n",
       "    <tr style=\"text-align: right;\">\n",
       "      <th></th>\n",
       "      <th>sentiment</th>\n",
       "      <th>text</th>\n",
       "    </tr>\n",
       "  </thead>\n",
       "  <tbody>\n",
       "    <tr>\n",
       "      <th>1</th>\n",
       "      <td>Positive</td>\n",
       "      <td>did not catch the full last night here are so...</td>\n",
       "    </tr>\n",
       "    <tr>\n",
       "      <th>3</th>\n",
       "      <td>Positive</td>\n",
       "      <td>that carly fiorina is trending hours after he...</td>\n",
       "    </tr>\n",
       "    <tr>\n",
       "      <th>4</th>\n",
       "      <td>Positive</td>\n",
       "      <td>w delivered the highest ratings in the histor...</td>\n",
       "    </tr>\n",
       "    <tr>\n",
       "      <th>5</th>\n",
       "      <td>Positive</td>\n",
       "      <td>on my first day i will rescind every illegal ...</td>\n",
       "    </tr>\n",
       "    <tr>\n",
       "      <th>6</th>\n",
       "      <td>Negative</td>\n",
       "      <td>i liked her and was happy when i heard she wa...</td>\n",
       "    </tr>\n",
       "  </tbody>\n",
       "</table>\n",
       "</div>"
      ],
      "text/plain": [
       "  sentiment                                               text\n",
       "1  Positive   did not catch the full last night here are so...\n",
       "3  Positive   that carly fiorina is trending hours after he...\n",
       "4  Positive   w delivered the highest ratings in the histor...\n",
       "5  Positive   on my first day i will rescind every illegal ...\n",
       "6  Negative   i liked her and was happy when i heard she wa..."
      ]
     },
     "execution_count": 10,
     "metadata": {},
     "output_type": "execute_result"
    }
   ],
   "source": [
    "df.text = df.text.apply(lambda x: x.lower())\n",
    "df.text = df.text.apply(lambda x: re.sub('(#[A-Za-z]+[A-Za-z0-9-_]+)', '', x)) \n",
    "df.text = df.text.apply(lambda x: re.sub('(@[A-Za-z]+[A-za-z0-9-_]+)', '', x)) \n",
    "df.text = df.text.apply(lambda x: re.sub('rt', '', x)) \n",
    "df.text = df.text.apply(lambda x: re.sub('\\<http.+?\\>', '', x)) \n",
    "df.text = df.text.replace(regex=contraction_mapping) \n",
    "df.text = df.text.apply(lambda x: ''.join([i for i in x if i not in string.punctuation]))\n",
    "df.text = df.text.apply(lambda x: re.sub(' +', ' ', x)) \n",
    "df.head()"
   ]
  },
  {
   "cell_type": "markdown",
   "metadata": {},
   "source": [
    "### Pegando o tamanho da maior setença"
   ]
  },
  {
   "cell_type": "code",
   "execution_count": 11,
   "metadata": {},
   "outputs": [
    {
     "name": "stdout",
     "output_type": "stream",
     "text": [
      "Tamanho máximo da sentença:  30\n"
     ]
    }
   ],
   "source": [
    "tm = []\n",
    "for t in df.text:\n",
    "    tm.append(len(t.split(' ')))\n",
    "sentenca = np.max(tm)\n",
    "print('Tamanho máximo da sentença: ', sentenca)"
   ]
  },
  {
   "cell_type": "markdown",
   "metadata": {},
   "source": [
    "* Definindo o número de palavras do vocabulário\n",
    "* Definindo o númeto de dimensões"
   ]
  },
  {
   "cell_type": "code",
   "execution_count": 12,
   "metadata": {},
   "outputs": [],
   "source": [
    "max_palavra = 10000\n",
    "embedding_dim = 20"
   ]
  },
  {
   "cell_type": "markdown",
   "metadata": {},
   "source": [
    "### Gerando os tokens únicos com o máximo de palavras"
   ]
  },
  {
   "cell_type": "code",
   "execution_count": 13,
   "metadata": {},
   "outputs": [
    {
     "name": "stdout",
     "output_type": "stream",
     "text": [
      "Quantidade de palavras únicas:  12099\n"
     ]
    }
   ],
   "source": [
    "tk = Tokenizer(num_words=max_palavra)\n",
    "tk.fit_on_texts(df.text.values)\n",
    "pl_unicas = tk.word_index\n",
    "print('Quantidade de palavras únicas: ', len(pl_unicas)+1)"
   ]
  },
  {
   "cell_type": "code",
   "execution_count": 14,
   "metadata": {},
   "outputs": [
    {
     "name": "stdout",
     "output_type": "stream",
     "text": [
      "% de palavras raras: 76.84741279550339\n",
      "Total de palavras raras: 7.976003209761752\n",
      "Palavras raras:  9297\n",
      "Tamanho do vocabulário:  12098\n",
      "Palavras mais comuns:  2801\n"
     ]
    }
   ],
   "source": [
    "thresh=4\n",
    "\n",
    "cnt=0\n",
    "tot_cnt=0\n",
    "freq=0\n",
    "tot_freq=0\n",
    "\n",
    "for key,value in tk.word_counts.items():\n",
    "    tot_cnt = tot_cnt + 1\n",
    "    tot_freq = tot_freq + value\n",
    "    if(value < thresh):\n",
    "        cnt = cnt + 1\n",
    "        freq = freq + value\n",
    "    \n",
    "print(\"% de palavras raras:\",(cnt/tot_cnt)*100)\n",
    "print(\"Total de palavras raras:\",(freq/tot_freq)*100)\n",
    "print('Palavras raras: ',cnt)\n",
    "print('Tamanho do vocabulário: ',tot_cnt)\n",
    "print('Palavras mais comuns: ', tot_cnt-cnt)"
   ]
  },
  {
   "cell_type": "markdown",
   "metadata": {},
   "source": [
    "# Palavra usadas "
   ]
  },
  {
   "cell_type": "code",
   "execution_count": 17,
   "metadata": {},
   "outputs": [
    {
     "name": "stdout",
     "output_type": "stream",
     "text": [
      "Quantidade de palavras únicas:  12099\n"
     ]
    }
   ],
   "source": [
    "tk = Tokenizer(tot_cnt-cnt)\n",
    "tk.fit_on_texts(list(df.text))\n",
    "pl_unicas = tk.word_index\n",
    "print('Quantidade de palavras únicas: ', len(pl_unicas)+1)"
   ]
  },
  {
   "cell_type": "markdown",
   "metadata": {},
   "source": [
    "### Fazendo o padding"
   ]
  },
  {
   "cell_type": "code",
   "execution_count": 16,
   "metadata": {},
   "outputs": [
    {
     "name": "stdout",
     "output_type": "stream",
     "text": [
      "Quantidade de dados de x:  (10729, 30)\n"
     ]
    }
   ],
   "source": [
    "x = tk.texts_to_sequences(df.text.values)\n",
    "x = pad_sequences(x, maxlen = sentenca, padding='post')\n",
    "print('Quantidade de dados de x: ', x.shape)"
   ]
  },
  {
   "cell_type": "markdown",
   "metadata": {},
   "source": [
    "### Preparando o target"
   ]
  },
  {
   "cell_type": "code",
   "execution_count": 17,
   "metadata": {},
   "outputs": [
    {
     "name": "stdout",
     "output_type": "stream",
     "text": [
      "Quantidade de dados de y:  (10729, 2)\n"
     ]
    }
   ],
   "source": [
    "y = pd.get_dummies(df.sentiment.values)\n",
    "print('Quantidade de dados de y: ', y.shape)"
   ]
  },
  {
   "cell_type": "markdown",
   "metadata": {},
   "source": [
    "### Dados de treino e teste"
   ]
  },
  {
   "cell_type": "code",
   "execution_count": 18,
   "metadata": {},
   "outputs": [
    {
     "name": "stdout",
     "output_type": "stream",
     "text": [
      "(8583, 30) (8583, 2)\n",
      "(2146, 30) (2146, 2)\n"
     ]
    }
   ],
   "source": [
    "x_treino, x_teste, y_treino, y_teste = train_test_split(x, y, test_size=0.2, random_state=2)\n",
    "print(x_treino.shape, y_treino.shape)\n",
    "print(x_teste.shape, y_teste.shape)"
   ]
  },
  {
   "cell_type": "code",
   "execution_count": 19,
   "metadata": {},
   "outputs": [
    {
     "name": "stdout",
     "output_type": "stream",
     "text": [
      "Model: \"sequential_1\"\n",
      "_________________________________________________________________\n",
      "Layer (type)                 Output Shape              Param #   \n",
      "=================================================================\n",
      "embedding_1 (Embedding)      (None, 30, 20)            200000    \n",
      "_________________________________________________________________\n",
      "lstm_1 (LSTM)                (None, 30, 256)           283648    \n",
      "_________________________________________________________________\n",
      "lstm_2 (LSTM)                (None, 30, 128)           197120    \n",
      "_________________________________________________________________\n",
      "lstm_3 (LSTM)                (None, 30, 128)           131584    \n",
      "_________________________________________________________________\n",
      "lstm_4 (LSTM)                (None, 64)                49408     \n",
      "_________________________________________________________________\n",
      "dense_1 (Dense)              (None, 2)                 130       \n",
      "=================================================================\n",
      "Total params: 861,890\n",
      "Trainable params: 861,890\n",
      "Non-trainable params: 0\n",
      "_________________________________________________________________\n"
     ]
    }
   ],
   "source": [
    "model = Sequential()\n",
    "model.add(Embedding(max_palavra, embedding_dim, input_length=x.shape[1]))\n",
    "model.add(LSTM(256, activation='relu', return_sequences=True, dropout=0.25))\n",
    "model.add(LSTM(128, activation='relu', return_sequences=True, dropout=0.25))\n",
    "model.add(LSTM(128, activation='relu', return_sequences=True, dropout=0.25))\n",
    "model.add(LSTM(64, activation='relu', dropout=0.25))\n",
    "model.add(Dense(2, activation='softmax'))\n",
    "model.compile(optimizer='adam', loss='categorical_crossentropy', metrics=['accuracy'])\n",
    "model.summary()"
   ]
  },
  {
   "cell_type": "code",
   "execution_count": 34,
   "metadata": {},
   "outputs": [
    {
     "name": "stdout",
     "output_type": "stream",
     "text": [
      "Train on 8583 samples, validate on 2146 samples\n",
      "Epoch 1/100\n",
      "8583/8583 [==============================] - 4s 477us/step - loss: 0.4572 - accuracy: 0.8137 - val_loss: 17.6477 - val_accuracy: 0.7889\n",
      "\n",
      "Epoch 00001: val_loss improved from inf to 17.64765, saving model to /home/rafael/Documentos/0002-00.15-04-2020.h5\n",
      "Epoch 2/100\n",
      "8583/8583 [==============================] - 4s 476us/step - loss: 0.3667 - accuracy: 0.8252 - val_loss: 22.9597 - val_accuracy: 0.7973\n",
      "\n",
      "Epoch 00002: val_loss did not improve from 17.64765\n",
      "Epoch 3/100\n",
      "8583/8583 [==============================] - 4s 479us/step - loss: 0.6160 - accuracy: 0.8326 - val_loss: 1057.5890 - val_accuracy: 0.7996\n",
      "\n",
      "Epoch 00003: val_loss did not improve from 17.64765\n",
      "Epoch 4/100\n",
      "8583/8583 [==============================] - 4s 474us/step - loss: 0.7577 - accuracy: 0.8349 - val_loss: 11.2714 - val_accuracy: 0.7982\n",
      "\n",
      "Epoch 00004: val_loss improved from 17.64765 to 11.27138, saving model to /home/rafael/Documentos/0002-00.15-04-2020.h5\n",
      "Epoch 5/100\n",
      "8583/8583 [==============================] - 4s 484us/step - loss: 0.3227 - accuracy: 0.8436 - val_loss: 30.7228 - val_accuracy: 0.8010\n",
      "\n",
      "Epoch 00005: val_loss did not improve from 11.27138\n",
      "Epoch 6/100\n",
      "8583/8583 [==============================] - 4s 472us/step - loss: 0.3110 - accuracy: 0.8473 - val_loss: 50.4086 - val_accuracy: 0.7861\n",
      "\n",
      "Epoch 00006: val_loss did not improve from 11.27138\n",
      "Epoch 7/100\n",
      "8583/8583 [==============================] - 4s 471us/step - loss: 0.3123 - accuracy: 0.8617 - val_loss: 175.1005 - val_accuracy: 0.8020\n",
      "\n",
      "Epoch 00007: val_loss did not improve from 11.27138\n",
      "Epoch 8/100\n",
      "8583/8583 [==============================] - 4s 471us/step - loss: 0.2796 - accuracy: 0.8604 - val_loss: 64.4629 - val_accuracy: 0.7912\n",
      "\n",
      "Epoch 00008: val_loss did not improve from 11.27138\n",
      "Epoch 9/100\n",
      "8583/8583 [==============================] - 4s 463us/step - loss: 0.5935 - accuracy: 0.8589 - val_loss: 741.8451 - val_accuracy: 0.7763\n",
      "\n",
      "Epoch 00009: val_loss did not improve from 11.27138\n",
      "Epoch 10/100\n",
      "8583/8583 [==============================] - 4s 465us/step - loss: 1.5470 - accuracy: 0.8584 - val_loss: 2359.5413 - val_accuracy: 0.8034\n",
      "\n",
      "Epoch 00010: val_loss did not improve from 11.27138\n",
      "Epoch 11/100\n",
      "8583/8583 [==============================] - 4s 468us/step - loss: 3.1220 - accuracy: 0.8681 - val_loss: 1171.8070 - val_accuracy: 0.7959\n",
      "\n",
      "Epoch 00011: val_loss did not improve from 11.27138\n",
      "Epoch 12/100\n",
      "8583/8583 [==============================] - 4s 475us/step - loss: 0.2707 - accuracy: 0.8617 - val_loss: 1143.1869 - val_accuracy: 0.8015\n",
      "\n",
      "Epoch 00012: val_loss did not improve from 11.27138\n",
      "Epoch 13/100\n",
      "8583/8583 [==============================] - 4s 463us/step - loss: 0.2665 - accuracy: 0.8630 - val_loss: 1843.1952 - val_accuracy: 0.8015\n",
      "\n",
      "Epoch 00013: val_loss did not improve from 11.27138\n",
      "Epoch 14/100\n",
      "8583/8583 [==============================] - 4s 465us/step - loss: 0.2633 - accuracy: 0.8693 - val_loss: 1834.0978 - val_accuracy: 0.8020\n",
      "\n",
      "Epoch 00014: val_loss did not improve from 11.27138\n",
      "Epoch 15/100\n",
      "8583/8583 [==============================] - 4s 472us/step - loss: 0.2636 - accuracy: 0.8693 - val_loss: 1861.0578 - val_accuracy: 0.8048\n",
      "\n",
      "Epoch 00015: val_loss did not improve from 11.27138\n",
      "Epoch 16/100\n",
      "8583/8583 [==============================] - 4s 470us/step - loss: 0.3559 - accuracy: 0.8686 - val_loss: 1357.5637 - val_accuracy: 0.8038\n",
      "\n",
      "Epoch 00016: val_loss did not improve from 11.27138\n",
      "Epoch 17/100\n",
      "8583/8583 [==============================] - 4s 485us/step - loss: 0.5183 - accuracy: 0.8623 - val_loss: 728.9591 - val_accuracy: 0.7922\n",
      "\n",
      "Epoch 00017: val_loss did not improve from 11.27138\n",
      "Epoch 18/100\n",
      "8583/8583 [==============================] - 4s 472us/step - loss: 0.2575 - accuracy: 0.8744 - val_loss: 832.1754 - val_accuracy: 0.8001\n",
      "\n",
      "Epoch 00018: val_loss did not improve from 11.27138\n",
      "Epoch 19/100\n",
      "8583/8583 [==============================] - 4s 470us/step - loss: 0.2486 - accuracy: 0.8810 - val_loss: 672.7263 - val_accuracy: 0.8038\n",
      "\n",
      "Epoch 00019: val_loss did not improve from 11.27138\n",
      "Epoch 20/100\n",
      "8583/8583 [==============================] - 4s 467us/step - loss: 0.2479 - accuracy: 0.8785 - val_loss: 731.3807 - val_accuracy: 0.8066\n",
      "\n",
      "Epoch 00020: val_loss did not improve from 11.27138\n",
      "Epoch 21/100\n",
      "8583/8583 [==============================] - 4s 460us/step - loss: 0.3775 - accuracy: 0.8837 - val_loss: 1889.9759 - val_accuracy: 0.8024\n",
      "\n",
      "Epoch 00021: val_loss did not improve from 11.27138\n",
      "Epoch 22/100\n",
      "8583/8583 [==============================] - 4s 467us/step - loss: 0.2433 - accuracy: 0.8850 - val_loss: 2435.9013 - val_accuracy: 0.8024\n",
      "\n",
      "Epoch 00022: val_loss did not improve from 11.27138\n",
      "Epoch 23/100\n",
      "8583/8583 [==============================] - 4s 478us/step - loss: 0.2400 - accuracy: 0.8815 - val_loss: 916.0804 - val_accuracy: 0.8010\n",
      "\n",
      "Epoch 00023: val_loss did not improve from 11.27138\n",
      "Epoch 24/100\n",
      "8583/8583 [==============================] - 4s 482us/step - loss: 0.2338 - accuracy: 0.8837 - val_loss: 840.2710 - val_accuracy: 0.8062\n",
      "\n",
      "Epoch 00024: val_loss did not improve from 11.27138\n",
      "Epoch 25/100\n",
      "8583/8583 [==============================] - 4s 474us/step - loss: 0.2287 - accuracy: 0.8907 - val_loss: 970.3731 - val_accuracy: 0.7987\n",
      "\n",
      "Epoch 00025: val_loss did not improve from 11.27138\n",
      "Epoch 26/100\n",
      "8583/8583 [==============================] - 4s 473us/step - loss: 0.2277 - accuracy: 0.8864 - val_loss: 1178.5164 - val_accuracy: 0.8038\n",
      "\n",
      "Epoch 00026: val_loss did not improve from 11.27138\n",
      "Epoch 27/100\n",
      "8583/8583 [==============================] - 4s 482us/step - loss: 0.2284 - accuracy: 0.8908 - val_loss: 633.5004 - val_accuracy: 0.8010\n",
      "\n",
      "Epoch 00027: val_loss did not improve from 11.27138\n",
      "Epoch 28/100\n",
      "8583/8583 [==============================] - 4s 472us/step - loss: 0.2258 - accuracy: 0.8911 - val_loss: 758.9135 - val_accuracy: 0.7982\n",
      "\n",
      "Epoch 00028: val_loss did not improve from 11.27138\n",
      "Epoch 29/100\n",
      "8583/8583 [==============================] - 4s 472us/step - loss: 0.2221 - accuracy: 0.8900 - val_loss: 902.2949 - val_accuracy: 0.8001\n",
      "\n",
      "Epoch 00029: val_loss did not improve from 11.27138\n",
      "Epoch 30/100\n",
      "8583/8583 [==============================] - 4s 479us/step - loss: 0.2224 - accuracy: 0.8930 - val_loss: 1155.6470 - val_accuracy: 0.8043\n",
      "\n",
      "Epoch 00030: val_loss did not improve from 11.27138\n",
      "Epoch 31/100\n",
      "8583/8583 [==============================] - 4s 477us/step - loss: 0.2181 - accuracy: 0.8965 - val_loss: 1851.3783 - val_accuracy: 0.8057\n",
      "\n",
      "Epoch 00031: val_loss did not improve from 11.27138\n",
      "Epoch 32/100\n",
      "8583/8583 [==============================] - 4s 472us/step - loss: 0.2166 - accuracy: 0.8925 - val_loss: 1895.5922 - val_accuracy: 0.8066\n",
      "\n",
      "Epoch 00032: val_loss did not improve from 11.27138\n",
      "Epoch 33/100\n",
      "8583/8583 [==============================] - 4s 482us/step - loss: 0.2191 - accuracy: 0.8976 - val_loss: 685.7497 - val_accuracy: 0.8057\n",
      "\n",
      "Epoch 00033: val_loss did not improve from 11.27138\n",
      "Epoch 34/100\n",
      "8583/8583 [==============================] - 4s 473us/step - loss: 0.2180 - accuracy: 0.8928 - val_loss: 952.7456 - val_accuracy: 0.8043\n",
      "\n",
      "Epoch 00034: val_loss did not improve from 11.27138\n",
      "Epoch 35/100\n",
      "8583/8583 [==============================] - 4s 476us/step - loss: 0.2137 - accuracy: 0.9002 - val_loss: 1229.5704 - val_accuracy: 0.8052\n",
      "\n",
      "Epoch 00035: val_loss did not improve from 11.27138\n",
      "Epoch 36/100\n",
      "8583/8583 [==============================] - 4s 471us/step - loss: 0.2077 - accuracy: 0.9014 - val_loss: 910.2053 - val_accuracy: 0.8052\n",
      "\n",
      "Epoch 00036: val_loss did not improve from 11.27138\n",
      "Epoch 37/100\n",
      "8583/8583 [==============================] - 4s 469us/step - loss: 0.2107 - accuracy: 0.8979 - val_loss: 931.2522 - val_accuracy: 0.8066\n",
      "\n",
      "Epoch 00037: val_loss did not improve from 11.27138\n",
      "Epoch 38/100\n",
      "8583/8583 [==============================] - 4s 489us/step - loss: 0.2069 - accuracy: 0.9039 - val_loss: 492.7572 - val_accuracy: 0.8034\n",
      "\n",
      "Epoch 00038: val_loss did not improve from 11.27138\n",
      "Epoch 39/100\n",
      "8583/8583 [==============================] - 4s 479us/step - loss: 0.2116 - accuracy: 0.9013 - val_loss: 505.7284 - val_accuracy: 0.8034\n",
      "\n",
      "Epoch 00039: val_loss did not improve from 11.27138\n",
      "Epoch 40/100\n",
      "8583/8583 [==============================] - 4s 469us/step - loss: 0.2127 - accuracy: 0.8948 - val_loss: 599.1345 - val_accuracy: 0.7940\n",
      "\n",
      "Epoch 00040: val_loss did not improve from 11.27138\n"
     ]
    }
   ],
   "source": [
    "batch_size = 128\n",
    "\n",
    "file = '/home/rafael/Documentos/0002-00.15-04-2020.h5'\n",
    "parada = EarlyStopping(monitor='val_accuracy', mode='max',patience=20,  baseline=0.4, min_delta=.0001)\n",
    "check = ModelCheckpoint(file, monitor='val_loss', verbose=1, save_best_only=True, mode='min')\n",
    "\n",
    "modelo = model.fit(x_treino, y_treino, epochs=100, batch_size=batch_size, verbose=2,\n",
    "                  validation_data=(x_teste, y_teste),callbacks=[check, parada])"
   ]
  },
  {
   "cell_type": "code",
   "execution_count": 35,
   "metadata": {},
   "outputs": [
    {
     "name": "stdout",
     "output_type": "stream",
     "text": [
      "Acurácia: 79.403543\n"
     ]
    }
   ],
   "source": [
    "loss, acc = model.evaluate(x_teste, y_teste, verbose=0)\n",
    "print('Acurácia: %f' % (acc*100))"
   ]
  },
  {
   "cell_type": "code",
   "execution_count": 36,
   "metadata": {},
   "outputs": [
    {
     "data": {
      "image/png": "[encoded data removed]",
      "text/plain": [
       "<Figure size 432x288 with 1 Axes>"
      ]
     },
     "metadata": {
      "needs_background": "light"
     },
     "output_type": "display_data"
    }
   ],
   "source": [
    "plt.plot(modelo.history['accuracy'])\n",
    "plt.plot(modelo.history['val_accuracy'])\n",
    "plt.xlabel('Epochs')\n",
    "plt.ylabel('Acurácia')\n",
    "plt.legend(['Acurácia em treino','Acurácia em teste'])\n",
    "plt.show()"
   ]
  },
  {
   "cell_type": "code",
   "execution_count": 37,
   "metadata": {},
   "outputs": [
    {
     "data": {
      "image/png": "[encoded data removed]",
      "text/plain": [
       "<Figure size 432x288 with 1 Axes>"
      ]
     },
     "metadata": {
      "needs_background": "light"
     },
     "output_type": "display_data"
    }
   ],
   "source": [
    "plt.plot(modelo.history['loss'])\n",
    "plt.plot(modelo.history['val_loss'])\n",
    "plt.xlabel('Epochs')\n",
    "plt.ylabel('Erro')\n",
    "plt.legend(['Erro em treino','Erro em teste'])\n",
    "plt.show()"
   ]
  }
 ],
 "metadata": {
  "kernelspec": {
   "display_name": "Python 3",
   "language": "python",
   "name": "python3"
  },
  "language_info": {
   "codemirror_mode": {
    "name": "ipython",
    "version": 3
   },
   "file_extension": ".py",
   "mimetype": "text/x-python",
   "name": "python",
   "nbconvert_exporter": "python",
   "pygments_lexer": "ipython3",
   "version": "3.6.12"
  }
 },
 "nbformat": 4,
 "nbformat_minor": 4
}
