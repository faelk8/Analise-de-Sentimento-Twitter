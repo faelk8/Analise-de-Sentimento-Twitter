{
 "cells": [
  {
   "cell_type": "code",
   "execution_count": 1,
   "metadata": {},
   "outputs": [
    {
     "name": "stderr",
     "output_type": "stream",
     "text": [
      "Using TensorFlow backend.\n"
     ]
    }
   ],
   "source": [
    "import numpy as np\n",
    "import pandas as pd\n",
    "import string\n",
    "import glob\n",
    "import pickle\n",
    "from re import sub\n",
    "from sklearn.feature_extraction.text import CountVectorizer\n",
    "from sklearn.model_selection import train_test_split\n",
    "from keras.preprocessing.text import Tokenizer\n",
    "from keras.preprocessing.sequence import pad_sequences\n",
    "from keras.models import Sequential\n",
    "from keras.layers import Dense, Embedding, GlobalAveragePooling1D, SpatialDropout1D\n",
    "from keras.callbacks import EarlyStopping, ModelCheckpoint\n",
    "from keras import optimizers\n",
    "\n",
    "import seaborn as sns\n",
    "import matplotlib.pyplot as plt\n",
    "from pylab import rcParams"
   ]
  },
  {
   "cell_type": "code",
   "execution_count": 2,
   "metadata": {},
   "outputs": [
    {
     "data": {
      "text/html": [
       "<div>\n",
       "<style scoped>\n",
       "    .dataframe tbody tr th:only-of-type {\n",
       "        vertical-align: middle;\n",
       "    }\n",
       "\n",
       "    .dataframe tbody tr th {\n",
       "        vertical-align: top;\n",
       "    }\n",
       "\n",
       "    .dataframe thead th {\n",
       "        text-align: right;\n",
       "    }\n",
       "</style>\n",
       "<table border=\"1\" class=\"dataframe\">\n",
       "  <thead>\n",
       "    <tr style=\"text-align: right;\">\n",
       "      <th></th>\n",
       "      <th>id</th>\n",
       "      <th>tweet_text</th>\n",
       "      <th>tweet_date</th>\n",
       "      <th>sentiment</th>\n",
       "      <th>query_used</th>\n",
       "    </tr>\n",
       "  </thead>\n",
       "  <tbody>\n",
       "    <tr>\n",
       "      <th>0</th>\n",
       "      <td>1031761728445530112</td>\n",
       "      <td>@Tixaa23 14 para eu ir :)</td>\n",
       "      <td>Tue Aug 21 04:35:39 +0000 2018</td>\n",
       "      <td>Positivo</td>\n",
       "      <td>:)</td>\n",
       "    </tr>\n",
       "    <tr>\n",
       "      <th>1</th>\n",
       "      <td>1031761040462278656</td>\n",
       "      <td>@drexalvarez O meu like eu já dei na época :)</td>\n",
       "      <td>Tue Aug 21 04:32:55 +0000 2018</td>\n",
       "      <td>Positivo</td>\n",
       "      <td>:)</td>\n",
       "    </tr>\n",
       "    <tr>\n",
       "      <th>2</th>\n",
       "      <td>1031760962372689920</td>\n",
       "      <td>Eu só queria conseguir comer alguma coisa pra ...</td>\n",
       "      <td>Tue Aug 21 04:32:37 +0000 2018</td>\n",
       "      <td>Positivo</td>\n",
       "      <td>:)</td>\n",
       "    </tr>\n",
       "    <tr>\n",
       "      <th>3</th>\n",
       "      <td>1031760948250456066</td>\n",
       "      <td>:D que lindo dia !</td>\n",
       "      <td>Tue Aug 21 04:32:33 +0000 2018</td>\n",
       "      <td>Positivo</td>\n",
       "      <td>:)</td>\n",
       "    </tr>\n",
       "    <tr>\n",
       "      <th>4</th>\n",
       "      <td>1031760895985246208</td>\n",
       "      <td>@Primo_Resmungao Pq da pr jeito!!é uma \"oferta...</td>\n",
       "      <td>Tue Aug 21 04:32:21 +0000 2018</td>\n",
       "      <td>Positivo</td>\n",
       "      <td>:)</td>\n",
       "    </tr>\n",
       "    <tr>\n",
       "      <th>...</th>\n",
       "      <td>...</td>\n",
       "      <td>...</td>\n",
       "      <td>...</td>\n",
       "      <td>...</td>\n",
       "      <td>...</td>\n",
       "    </tr>\n",
       "    <tr>\n",
       "      <th>61586</th>\n",
       "      <td>1055096632600080384</td>\n",
       "      <td>As concorrentes estão prontas para tudo. :p Lo...</td>\n",
       "      <td>Wed Oct 24 14:00:14 +0000 2018</td>\n",
       "      <td>Positivo</td>\n",
       "      <td>PT :)</td>\n",
       "    </tr>\n",
       "    <tr>\n",
       "      <th>61587</th>\n",
       "      <td>1055204789058002949</td>\n",
       "      <td>@Frases_RCampos @vrr93 Falei de um já pensando...</td>\n",
       "      <td>Wed Oct 24 21:10:01 +0000 2018</td>\n",
       "      <td>Positivo</td>\n",
       "      <td>governo :)</td>\n",
       "    </tr>\n",
       "    <tr>\n",
       "      <th>61588</th>\n",
       "      <td>1054982223793938433</td>\n",
       "      <td>@njg00 @christophssj @pecesiqueira @cauemoura ...</td>\n",
       "      <td>Wed Oct 24 06:25:37 +0000 2018</td>\n",
       "      <td>Positivo</td>\n",
       "      <td>governo :)</td>\n",
       "    </tr>\n",
       "    <tr>\n",
       "      <th>61589</th>\n",
       "      <td>1055144918451187714</td>\n",
       "      <td>que coisa mais triste uma amiga defendendo um ...</td>\n",
       "      <td>Wed Oct 24 17:12:06 +0000 2018</td>\n",
       "      <td>Negativo</td>\n",
       "      <td>fascista :(</td>\n",
       "    </tr>\n",
       "    <tr>\n",
       "      <th>61590</th>\n",
       "      <td>1055068278882791425</td>\n",
       "      <td>@ElevenSports_PT @AneisCinco @putente @sitioco...</td>\n",
       "      <td>Wed Oct 24 12:07:34 +0000 2018</td>\n",
       "      <td>Positivo</td>\n",
       "      <td>PT :)</td>\n",
       "    </tr>\n",
       "  </tbody>\n",
       "</table>\n",
       "<p>900688 rows × 5 columns</p>\n",
       "</div>"
      ],
      "text/plain": [
       "                        id                                         tweet_text  \\\n",
       "0      1031761728445530112                          @Tixaa23 14 para eu ir :)   \n",
       "1      1031761040462278656      @drexalvarez O meu like eu já dei na época :)   \n",
       "2      1031760962372689920  Eu só queria conseguir comer alguma coisa pra ...   \n",
       "3      1031760948250456066                                 :D que lindo dia !   \n",
       "4      1031760895985246208  @Primo_Resmungao Pq da pr jeito!!é uma \"oferta...   \n",
       "...                    ...                                                ...   \n",
       "61586  1055096632600080384  As concorrentes estão prontas para tudo. :p Lo...   \n",
       "61587  1055204789058002949  @Frases_RCampos @vrr93 Falei de um já pensando...   \n",
       "61588  1054982223793938433  @njg00 @christophssj @pecesiqueira @cauemoura ...   \n",
       "61589  1055144918451187714  que coisa mais triste uma amiga defendendo um ...   \n",
       "61590  1055068278882791425  @ElevenSports_PT @AneisCinco @putente @sitioco...   \n",
       "\n",
       "                           tweet_date sentiment   query_used  \n",
       "0      Tue Aug 21 04:35:39 +0000 2018  Positivo           :)  \n",
       "1      Tue Aug 21 04:32:55 +0000 2018  Positivo           :)  \n",
       "2      Tue Aug 21 04:32:37 +0000 2018  Positivo           :)  \n",
       "3      Tue Aug 21 04:32:33 +0000 2018  Positivo           :)  \n",
       "4      Tue Aug 21 04:32:21 +0000 2018  Positivo           :)  \n",
       "...                               ...       ...          ...  \n",
       "61586  Wed Oct 24 14:00:14 +0000 2018  Positivo        PT :)  \n",
       "61587  Wed Oct 24 21:10:01 +0000 2018  Positivo   governo :)  \n",
       "61588  Wed Oct 24 06:25:37 +0000 2018  Positivo   governo :)  \n",
       "61589  Wed Oct 24 17:12:06 +0000 2018  Negativo  fascista :(  \n",
       "61590  Wed Oct 24 12:07:34 +0000 2018  Positivo        PT :)  \n",
       "\n",
       "[900688 rows x 5 columns]"
      ]
     },
     "execution_count": 2,
     "metadata": {},
     "output_type": "execute_result"
    }
   ],
   "source": [
    "data = pd.concat(map(pd.read_csv, glob.glob('/media/rafael/11D8AA336028BF21/dataset/01-texto/Sentimento/ptb_tweeter/*.csv')))\n",
    "data"
   ]
  },
  {
   "cell_type": "code",
   "execution_count": 3,
   "metadata": {},
   "outputs": [
    {
     "name": "stdout",
     "output_type": "stream",
     "text": [
      "<class 'pandas.core.frame.DataFrame'>\n",
      "Int64Index: 900688 entries, 0 to 61590\n",
      "Data columns (total 2 columns):\n",
      " #   Column      Non-Null Count   Dtype \n",
      "---  ------      --------------   ----- \n",
      " 0   texto       900688 non-null  object\n",
      " 1   sentimento  900688 non-null  object\n",
      "dtypes: object(2)\n",
      "memory usage: 20.6+ MB\n"
     ]
    }
   ],
   "source": [
    "data = data[['tweet_text','sentiment']]\n",
    "data.columns = ['texto','sentimento']\n",
    "data.info()"
   ]
  },
  {
   "cell_type": "code",
   "execution_count": 4,
   "metadata": {},
   "outputs": [
    {
     "name": "stdout",
     "output_type": "stream",
     "text": [
      "Negativo    551554\n",
      "Positivo    295851\n",
      "Neutro       53283\n",
      "Name: sentimento, dtype: int64\n"
     ]
    },
    {
     "data": {
      "text/plain": [
       "<matplotlib.axes._subplots.AxesSubplot at 0x7f839b96e450>"
      ]
     },
     "execution_count": 4,
     "metadata": {},
     "output_type": "execute_result"
    },
    {
     "data": {
      "image/png": "[encoded data removed]",
      "text/plain": [
       "<Figure size 576x360 with 1 Axes>"
      ]
     },
     "metadata": {},
     "output_type": "display_data"
    }
   ],
   "source": [
    "print(data.sentimento.value_counts())\n",
    "sns.set(style='whitegrid', palette='muted', font_scale=1.2)\n",
    "rcParams['figure.figsize'] = 8,5\n",
    "sns.countplot(data.sentimento)"
   ]
  },
  {
   "cell_type": "code",
   "execution_count": 5,
   "metadata": {},
   "outputs": [
    {
     "name": "stderr",
     "output_type": "stream",
     "text": [
      "/home/rafael/anaconda3/lib/python3.7/site-packages/pandas/core/generic.py:5303: SettingWithCopyWarning: \n",
      "A value is trying to be set on a copy of a slice from a DataFrame.\n",
      "Try using .loc[row_indexer,col_indexer] = value instead\n",
      "\n",
      "See the caveats in the documentation: https://pandas.pydata.org/pandas-docs/stable/user_guide/indexing.html#returning-a-view-versus-a-copy\n",
      "  self[name] = value\n"
     ]
    }
   ],
   "source": [
    "data.texto = data.texto.apply(lambda x: x.lower())\n",
    "data.texto = data.texto.apply(lambda x: sub('(@[a-zA-z]+[a-zA-Z0-9-_]+)', '', x))\n",
    "data.texto = data.texto.apply(lambda x: sub('(#[a-zA-Z]+[a-zA-Z0-9-_]+)', '', x))\n",
    "data.texto = data.texto.apply(lambda x: sub('([0-9])','',x))\n",
    "data.texto = data.texto.apply(lambda x: sub('\\<http.+?\\>', '', x))\n",
    "data.texto = data.texto.apply(lambda x: sub('rt', '', x))\n",
    "data.texto = data.texto.apply(lambda x: ''.join([i for i in x if i not in string.punctuation]))\n",
    "data.texto = data.texto.apply(lambda x: sub(' +', ' ', x))"
   ]
  },
  {
   "cell_type": "code",
   "execution_count": 6,
   "metadata": {},
   "outputs": [
    {
     "data": {
      "text/html": [
       "<div>\n",
       "<style scoped>\n",
       "    .dataframe tbody tr th:only-of-type {\n",
       "        vertical-align: middle;\n",
       "    }\n",
       "\n",
       "    .dataframe tbody tr th {\n",
       "        vertical-align: top;\n",
       "    }\n",
       "\n",
       "    .dataframe thead th {\n",
       "        text-align: right;\n",
       "    }\n",
       "</style>\n",
       "<table border=\"1\" class=\"dataframe\">\n",
       "  <thead>\n",
       "    <tr style=\"text-align: right;\">\n",
       "      <th></th>\n",
       "      <th>texto</th>\n",
       "      <th>sentimento</th>\n",
       "    </tr>\n",
       "  </thead>\n",
       "  <tbody>\n",
       "    <tr>\n",
       "      <th>0</th>\n",
       "      <td>para eu ir</td>\n",
       "      <td>Positivo</td>\n",
       "    </tr>\n",
       "    <tr>\n",
       "      <th>1</th>\n",
       "      <td>o meu like eu já dei na época</td>\n",
       "      <td>Positivo</td>\n",
       "    </tr>\n",
       "    <tr>\n",
       "      <th>2</th>\n",
       "      <td>eu só queria conseguir comer alguma coisa pra ...</td>\n",
       "      <td>Positivo</td>\n",
       "    </tr>\n",
       "    <tr>\n",
       "      <th>3</th>\n",
       "      <td>d que lindo dia</td>\n",
       "      <td>Positivo</td>\n",
       "    </tr>\n",
       "    <tr>\n",
       "      <th>4</th>\n",
       "      <td>pq da pr jeitoé uma ofea ha q aproveitar p</td>\n",
       "      <td>Positivo</td>\n",
       "    </tr>\n",
       "    <tr>\n",
       "      <th>...</th>\n",
       "      <td>...</td>\n",
       "      <td>...</td>\n",
       "    </tr>\n",
       "    <tr>\n",
       "      <th>61586</th>\n",
       "      <td>as concorrentes estão prontas para tudo p love...</td>\n",
       "      <td>Positivo</td>\n",
       "    </tr>\n",
       "    <tr>\n",
       "      <th>61587</th>\n",
       "      <td>falei de um já pensando em conectar com o gov...</td>\n",
       "      <td>Positivo</td>\n",
       "    </tr>\n",
       "    <tr>\n",
       "      <th>61588</th>\n",
       "      <td>eu comecei isentao pesquisei bastante baixei ...</td>\n",
       "      <td>Positivo</td>\n",
       "    </tr>\n",
       "    <tr>\n",
       "      <th>61589</th>\n",
       "      <td>que coisa mais triste uma amiga defendendo um ...</td>\n",
       "      <td>Negativo</td>\n",
       "    </tr>\n",
       "    <tr>\n",
       "      <th>61590</th>\n",
       "      <td>obrigado pela declaração de intenções</td>\n",
       "      <td>Positivo</td>\n",
       "    </tr>\n",
       "  </tbody>\n",
       "</table>\n",
       "<p>900688 rows × 2 columns</p>\n",
       "</div>"
      ],
      "text/plain": [
       "                                                   texto sentimento\n",
       "0                                            para eu ir    Positivo\n",
       "1                         o meu like eu já dei na época    Positivo\n",
       "2      eu só queria conseguir comer alguma coisa pra ...   Positivo\n",
       "3                                       d que lindo dia    Positivo\n",
       "4             pq da pr jeitoé uma ofea ha q aproveitar p   Positivo\n",
       "...                                                  ...        ...\n",
       "61586  as concorrentes estão prontas para tudo p love...   Positivo\n",
       "61587   falei de um já pensando em conectar com o gov...   Positivo\n",
       "61588   eu comecei isentao pesquisei bastante baixei ...   Positivo\n",
       "61589  que coisa mais triste uma amiga defendendo um ...   Negativo\n",
       "61590             obrigado pela declaração de intenções    Positivo\n",
       "\n",
       "[900688 rows x 2 columns]"
      ]
     },
     "execution_count": 6,
     "metadata": {},
     "output_type": "execute_result"
    }
   ],
   "source": [
    "data"
   ]
  },
  {
   "cell_type": "code",
   "execution_count": 7,
   "metadata": {},
   "outputs": [
    {
     "data": {
      "text/plain": [
       "85"
      ]
     },
     "execution_count": 7,
     "metadata": {},
     "output_type": "execute_result"
    }
   ],
   "source": [
    "tm = []\n",
    "for t in data.texto:\n",
    "    tm.append(len(t.split(' ')))\n",
    "tamanho_txt = np.max(tm)\n",
    "tamanho_txt"
   ]
  },
  {
   "cell_type": "code",
   "execution_count": 8,
   "metadata": {},
   "outputs": [
    {
     "data": {
      "text/plain": [
       "Text(0.5, 0, 'Comprimento dos Tokens')"
      ]
     },
     "execution_count": 8,
     "metadata": {},
     "output_type": "execute_result"
    },
    {
     "data": {
      "image/png": "[encoded data removed]",
      "text/plain": [
       "<Figure size 1296x504 with 1 Axes>"
      ]
     },
     "metadata": {},
     "output_type": "display_data"
    }
   ],
   "source": [
    "plt.figure(figsize=(18,7))\n",
    "ax = sns.distplot(tm)\n",
    "plt.xlim([0,85])\n",
    "plt.xlabel('Comprimento dos Tokens')"
   ]
  },
  {
   "cell_type": "code",
   "execution_count": 9,
   "metadata": {},
   "outputs": [
    {
     "name": "stdout",
     "output_type": "stream",
     "text": [
      "Total de palavras:  440609\n"
     ]
    }
   ],
   "source": [
    "tk = Tokenizer()\n",
    "tk.fit_on_texts(data.texto.values)\n",
    "word_index = tk.word_index\n",
    "total_palavras = len(word_index)\n",
    "print('Total de palavras: ', total_palavras)"
   ]
  },
  {
   "cell_type": "code",
   "execution_count": 10,
   "metadata": {},
   "outputs": [
    {
     "name": "stdout",
     "output_type": "stream",
     "text": [
      "Palavras raras:  385794\n",
      "Tamanho do vocabulário:  440609\n",
      "Palavras mais comuns:  54815\n"
     ]
    }
   ],
   "source": [
    "minimo = 4\n",
    "contador = 0\n",
    "total_contador = 0\n",
    "frequencia = 0\n",
    "total_frequencia = 0\n",
    "\n",
    "for k,v in tk.word_counts.items():\n",
    "    total_contador += 1\n",
    "    total_frequencia += v\n",
    "    if(v < minimo):\n",
    "        contador += 1 \n",
    "        frequencia += v\n",
    "        \n",
    "print('Palavras raras: ', contador)\n",
    "print('Tamanho do vocabulário: ', total_contador)\n",
    "print('Palavras mais comuns: ', total_contador - contador)\n",
    "palavras = total_contador - contador"
   ]
  },
  {
   "cell_type": "code",
   "execution_count": 11,
   "metadata": {},
   "outputs": [
    {
     "data": {
      "text/plain": [
       "(900688, 60)"
      ]
     },
     "execution_count": 11,
     "metadata": {},
     "output_type": "execute_result"
    }
   ],
   "source": [
    "tamanho_txt = 60\n",
    "\n",
    "tk = Tokenizer(palavras)\n",
    "tk.fit_on_texts(list(data.texto))\n",
    "x = tk.texts_to_sequences(data.texto.values)\n",
    "x = pad_sequences(x, maxlen=tamanho_txt, padding='post')\n",
    "x.shape"
   ]
  },
  {
   "cell_type": "markdown",
   "metadata": {},
   "source": [
    "# Salva os tokens"
   ]
  },
  {
   "cell_type": "code",
   "execution_count": 12,
   "metadata": {},
   "outputs": [],
   "source": [
    "with open('tk.pickle', 'wb') as handle:\n",
    "    pickle.dump(tk, handle, protocol=pickle.HIGHEST_PROTOCOL)"
   ]
  },
  {
   "cell_type": "code",
   "execution_count": 13,
   "metadata": {},
   "outputs": [
    {
     "data": {
      "text/plain": [
       "(900688, 3)"
      ]
     },
     "execution_count": 13,
     "metadata": {},
     "output_type": "execute_result"
    }
   ],
   "source": [
    "y = pd.get_dummies(data.sentimento.values)\n",
    "y.shape"
   ]
  },
  {
   "cell_type": "code",
   "execution_count": 14,
   "metadata": {},
   "outputs": [
    {
     "name": "stdout",
     "output_type": "stream",
     "text": [
      "(720550, 60) (720550, 3)\n",
      "(180138, 60) (180138, 3)\n"
     ]
    }
   ],
   "source": [
    "x_treino, x_teste, y_treino, y_teste = train_test_split(x, y, test_size = .2)\n",
    "print(x_treino.shape, y_treino.shape)\n",
    "print(x_teste.shape, y_teste.shape)"
   ]
  },
  {
   "cell_type": "code",
   "execution_count": 15,
   "metadata": {},
   "outputs": [],
   "source": [
    "dim = 30\n",
    "\n",
    "model = Sequential()\n",
    "model.add(Embedding(palavras, dim, input_length=x.shape[1]))\n",
    "model.add(SpatialDropout1D(0.2))\n",
    "model.add(GlobalAveragePooling1D())\n",
    "model.add(Dense(21, activation='relu'))\n",
    "model.add(Dense(3, activation='softmax'))\n",
    "model.compile(loss='categorical_crossentropy', optimizer='adam', metrics=['accuracy'])"
   ]
  },
  {
   "cell_type": "code",
   "execution_count": 16,
   "metadata": {},
   "outputs": [
    {
     "name": "stderr",
     "output_type": "stream",
     "text": [
      "/home/rafael/anaconda3/lib/python3.7/site-packages/tensorflow_core/python/framework/indexed_slices.py:433: UserWarning: Converting sparse IndexedSlices to a dense Tensor of unknown shape. This may consume a large amount of memory.\n",
      "  \"Converting sparse IndexedSlices to a dense Tensor of unknown shape. \"\n"
     ]
    },
    {
     "name": "stdout",
     "output_type": "stream",
     "text": [
      "Train on 720550 samples, validate on 180138 samples\n",
      "Epoch 1/100\n",
      "720550/720550 [==============================] - 14s 19us/step - loss: 0.4990 - accuracy: 0.7814 - val_loss: 0.4207 - val_accuracy: 0.8189\n",
      "\n",
      "Epoch 00001: val_loss improved from inf to 0.42068, saving model to /media/rafael/11D8AA336028BF21/dataset/melhor_modelo/analise_sentimento_pt.h5\n",
      "Epoch 2/100\n",
      "720550/720550 [==============================] - 13s 18us/step - loss: 0.4081 - accuracy: 0.8256 - val_loss: 0.4128 - val_accuracy: 0.8214\n",
      "\n",
      "Epoch 00002: val_loss improved from 0.42068 to 0.41278, saving model to /media/rafael/11D8AA336028BF21/dataset/melhor_modelo/analise_sentimento_pt.h5\n",
      "Epoch 3/100\n",
      "720550/720550 [==============================] - 13s 19us/step - loss: 0.3896 - accuracy: 0.8337 - val_loss: 0.4089 - val_accuracy: 0.8233\n",
      "\n",
      "Epoch 00003: val_loss improved from 0.41278 to 0.40888, saving model to /media/rafael/11D8AA336028BF21/dataset/melhor_modelo/analise_sentimento_pt.h5\n",
      "Epoch 4/100\n",
      "720550/720550 [==============================] - 13s 19us/step - loss: 0.3762 - accuracy: 0.8395 - val_loss: 0.4111 - val_accuracy: 0.8236\n",
      "\n",
      "Epoch 00004: val_loss did not improve from 0.40888\n",
      "Epoch 5/100\n",
      "720550/720550 [==============================] - 14s 19us/step - loss: 0.3657 - accuracy: 0.8445 - val_loss: 0.4142 - val_accuracy: 0.8245\n",
      "\n",
      "Epoch 00005: val_loss did not improve from 0.40888\n",
      "Epoch 6/100\n",
      "720550/720550 [==============================] - 13s 18us/step - loss: 0.3567 - accuracy: 0.8482 - val_loss: 0.4206 - val_accuracy: 0.8220\n",
      "\n",
      "Epoch 00006: val_loss did not improve from 0.40888\n"
     ]
    }
   ],
   "source": [
    "epochs = 100\n",
    "batch_size = 128\n",
    "\n",
    "filename = '/media/rafael/11D8AA336028BF21/dataset/melhor_modelo/analise_sentimento_pt.h5'\n",
    "parada = EarlyStopping(monitor='val_loss', patience=3, min_delta=0.0001)\n",
    "check = ModelCheckpoint(filename, monitor='val_loss', verbose=1, save_best_only=True, mode='min')\n",
    "\n",
    "modelo = model.fit(x_treino, y_treino, epochs=epochs, batch_size=batch_size, verbose=1,\n",
    "                   validation_data=(x_teste, y_teste), callbacks=[check, parada])"
   ]
  },
  {
   "cell_type": "code",
   "execution_count": 17,
   "metadata": {},
   "outputs": [
    {
     "name": "stdout",
     "output_type": "stream",
     "text": [
      "180138/180138 [==============================] - 4s 20us/step\n",
      "Acurácia:  82.20364451408386\n"
     ]
    }
   ],
   "source": [
    "loss, acc = model.evaluate(x_teste, y_teste)\n",
    "print('Acurácia: ', acc*100)"
   ]
  },
  {
   "cell_type": "code",
   "execution_count": 18,
   "metadata": {},
   "outputs": [
    {
     "data": {
      "image/png": "[encoded data removed]",
      "text/plain": [
       "<Figure size 1080x360 with 2 Axes>"
      ]
     },
     "metadata": {},
     "output_type": "display_data"
    }
   ],
   "source": [
    "fig, axes = plt.subplots(1, 2, figsize=(15,5))\n",
    "axes[0].plot(modelo.history['accuracy'])\n",
    "axes[0].plot(modelo.history['val_accuracy'])\n",
    "axes[0].set_xlabel('Epochs')\n",
    "axes[0].set_ylabel('Acurácia')\n",
    "axes[0].legend(['Acurácia em Treino','Acurácia em Teste'])\n",
    "axes[0].grid(True)\n",
    "\n",
    "axes[1].plot(modelo.history['loss'])\n",
    "axes[1].plot(modelo.history['val_loss'])\n",
    "axes[1].set_xlabel('Epochs')\n",
    "axes[1].set_ylabel('Erro')\n",
    "axes[1].legend(['Erro em Treino','Erro em Teste'])\n",
    "axes[1].grid(True)"
   ]
  },
  {
   "cell_type": "markdown",
   "metadata": {},
   "source": [
    "# Fazendo previsões"
   ]
  },
  {
   "cell_type": "code",
   "execution_count": 19,
   "metadata": {},
   "outputs": [
    {
     "name": "stdout",
     "output_type": "stream",
     "text": [
      "Negativo\n"
     ]
    }
   ],
   "source": [
    "# Carregaos tokens\n",
    "with open('tk.pickle', 'rb') as handle:\n",
    "    tk = pickle.load(handle)\n",
    "\n",
    "frase = 'Hoje eu tive um dia terrivel!!!'\n",
    "\n",
    "\n",
    "pre = tk.texts_to_sequences(frase)\n",
    "pre = pad_sequences(pre, maxlen=60, padding='post')\n",
    "\n",
    "saida = model.predict_classes(pre, batch_size=1, verbose=0)[0]\n",
    "if(np.argmax(saida) == 0):\n",
    "    print('Negativo')\n",
    "if(np.argmax(saida == 1)):\n",
    "    print('Neutro')\n",
    "if(np.argmax(saida == 2)):\n",
    "    print('Positivo')"
   ]
  }
 ],
 "metadata": {
  "kernelspec": {
   "display_name": "Python 3",
   "language": "python",
   "name": "python3"
  },
  "language_info": {
   "codemirror_mode": {
    "name": "ipython",
    "version": 3
   },
   "file_extension": ".py",
   "mimetype": "text/x-python",
   "name": "python",
   "nbconvert_exporter": "python",
   "pygments_lexer": "ipython3",
   "version": "3.7.7"
  }
 },
 "nbformat": 4,
 "nbformat_minor": 4
}
